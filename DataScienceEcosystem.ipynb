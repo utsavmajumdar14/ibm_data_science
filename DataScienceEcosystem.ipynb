{
 "cells": [
  {
   "cell_type": "markdown",
   "id": "b42ab664-e1d7-4169-9178-d2297d54b16c",
   "metadata": {},
   "source": [
    "# Data Science Tools and Ecosystem"
   ]
  },
  {
   "cell_type": "markdown",
   "id": "aaf45098-943b-4ca6-afbc-5d25c17660e3",
   "metadata": {},
   "source": [
    "In this notebook, Data Science Tools and Ecosystem are summarized."
   ]
  },
  {
   "cell_type": "markdown",
   "id": "13ffb070-5ccd-4dda-83b4-4ef4e9e81101",
   "metadata": {},
   "source": [
    "Objectives:\n",
    "* List popular languages for Data Science\n",
    "* List popular libraries for Data Science\n",
    "* List popular tools for Data Science\n",
    "* Addition and multiplication with comments\n",
    "* Converting minutes to hours"
   ]
  },
  {
   "cell_type": "markdown",
   "id": "a5b73225-8d67-46e7-bb8f-92d0fc524e80",
   "metadata": {},
   "source": [
    "Some of the popular languages that Data Scientists use are:\n",
    "1. Python\n",
    "2. SQL\n",
    "3. R"
   ]
  },
  {
   "cell_type": "markdown",
   "id": "dfd77753-1a4c-470b-8e31-9e3c2fbd032d",
   "metadata": {},
   "source": [
    "Some of the commonly used libraries used by Data Scientists include:\n",
    "1. numpy\n",
    "2. matplotlib\n",
    "3. pandas"
   ]
  },
  {
   "cell_type": "markdown",
   "id": "d3264049-0176-4a95-93d1-f456c68f50db",
   "metadata": {},
   "source": [
    "| Data Science Tools |\n",
    "| ------------------ |\n",
    "| Jupyter Notebook |\n",
    "| GitHub |\n",
    "| Google Colab |"
   ]
  },
  {
   "cell_type": "markdown",
   "id": "c9d11acc-823b-45dd-89ec-fc3611ed1c6c",
   "metadata": {},
   "source": [
    "### Below are a few examples of evaluating arithmetic expressions in Python"
   ]
  },
  {
   "cell_type": "code",
   "execution_count": 1,
   "id": "ffddea45-625c-4937-ac66-b4c703a05c48",
   "metadata": {
    "tags": []
   },
   "outputs": [
    {
     "data": {
      "text/plain": [
       "17"
      ]
     },
     "execution_count": 1,
     "metadata": {},
     "output_type": "execute_result"
    }
   ],
   "source": [
    "# This a simple arithmetic expression to mutiply then add integers\n",
    "(3*4)+5"
   ]
  },
  {
   "cell_type": "code",
   "execution_count": 2,
   "id": "8d02a129-2f32-4a53-a5cc-1b7cb2a449a7",
   "metadata": {
    "tags": []
   },
   "outputs": [
    {
     "name": "stdout",
     "output_type": "stream",
     "text": [
      "200  mins =  3.3333333333333335  hours\n"
     ]
    }
   ],
   "source": [
    "# This will convert 200 minutes to hours by diving by 60\n",
    "mins = 200\n",
    "hours = mins/60\n",
    "print(mins,\" mins = \", hours,\" hours\")"
   ]
  },
  {
   "cell_type": "markdown",
   "id": "96867294-5799-46d5-9bac-735a3093245c",
   "metadata": {},
   "source": [
    "## Author\n",
    "Utsav Majumdar"
   ]
  },
  {
   "cell_type": "code",
   "execution_count": null,
   "id": "7b6ff6cb-04ad-4a15-9066-65692568ef08",
   "metadata": {},
   "outputs": [],
   "source": []
  }
 ],
 "metadata": {
  "kernelspec": {
   "display_name": "Python",
   "language": "python",
   "name": "conda-env-python-py"
  },
  "language_info": {
   "codemirror_mode": {
    "name": "ipython",
    "version": 3
   },
   "file_extension": ".py",
   "mimetype": "text/x-python",
   "name": "python",
   "nbconvert_exporter": "python",
   "pygments_lexer": "ipython3",
   "version": "3.7.12"
  }
 },
 "nbformat": 4,
 "nbformat_minor": 5
}
